{
 "cells": [
  {
   "cell_type": "code",
   "execution_count": 9,
   "metadata": {
    "collapsed": false
   },
   "outputs": [
    {
     "ename": "ImportError",
     "evalue": "No module named 'nbpresent'",
     "output_type": "error",
     "traceback": [
      "\u001b[0;31m---------------------------------------------------------------------------\u001b[0m",
      "\u001b[0;31mImportError\u001b[0m                               Traceback (most recent call last)",
      "\u001b[0;32m<ipython-input-9-844a5a67c96e>\u001b[0m in \u001b[0;36m<module>\u001b[0;34m()\u001b[0m\n\u001b[0;32m----> 1\u001b[0;31m \u001b[0;32mimport\u001b[0m \u001b[0mnbpresent\u001b[0m\u001b[0;34m\u001b[0m\u001b[0m\n\u001b[0m\u001b[1;32m      2\u001b[0m \u001b[0mnbpresent\u001b[0m\u001b[0;34m.\u001b[0m\u001b[0m__version__\u001b[0m\u001b[0;34m\u001b[0m\u001b[0m\n",
      "\u001b[0;31mImportError\u001b[0m: No module named 'nbpresent'"
     ]
    }
   ],
   "source": [
    "import nbpresent\n",
    "nbpresent.__version__"
   ]
  },
  {
   "cell_type": "markdown",
   "metadata": {
    "nbpresent": {
     "id": "566ee3fd-7e78-45b0-8fca-c4cd7c594b14"
    }
   },
   "source": [
    "# Machine Learning with  Tensorflow\n",
    "\n",
    "Alex Hartenstein"
   ]
  },
  {
   "cell_type": "markdown",
   "metadata": {
    "nbpresent": {
     "id": "3de898cd-eb01-4437-a0d6-c4b0375ade79"
    }
   },
   "source": [
    "### Was braucht man für Machine Learning?\n",
    "- mathematische Operationen von Matricen\n",
    "- effiziente Ableitungen von Matricen (für Optimization algorithms)\n",
    "- haufig benuzte algorithemn (gradient descent, softmax, etc)"
   ]
  },
  {
   "cell_type": "markdown",
   "metadata": {
    "nbpresent": {
     "id": "334d71ff-092c-4144-ba96-1318a2209f4c"
    }
   },
   "source": [
    "### Machine Learning Libraries\n",
    "eg. Torch (Facebook), Caffe, Theano (Keras, Lasagne), Tensorflow (Google), etc.\n",
    "1. *Configuration file* (Caffe, CNTK) vs *Programmatic Generation* ( Torch, Theano, Tensorflow)\n",
    "2. high level language : Python (theano, Tensorflow) vs Lua "
   ]
  },
  {
   "cell_type": "markdown",
   "metadata": {
    "nbpresent": {
     "id": "b06aa1ad-2e1b-41d9-9db4-7c3da39a7586"
    }
   },
   "source": [
    "### Was ist TensorFlow? \n",
    "- ein Deep Learning Library von Google, jetzt open source\n",
    "- definiert primitive um funktionen mit Tensoren (typed, multidimensional arrays) aufzubauen\n",
    "- automatische Berechnung der Ableitung von Tensoren!"
   ]
  },
  {
   "cell_type": "code",
   "execution_count": 17,
   "metadata": {
    "collapsed": false,
    "nbpresent": {
     "id": "a49fa2d3-fc68-4cbe-88ca-a716e6ef3273"
    }
   },
   "outputs": [
    {
     "name": "stdout",
     "output_type": "stream",
     "text": [
      "[ 2.  2.]\n",
      "(2, 2)\n",
      "[[ 0.  0.  0.  0.]]\n"
     ]
    }
   ],
   "source": [
    "# Tensorflow benutzt numpy\n",
    "import numpy as np\n",
    "\n",
    "a = np.zeros((2,2))\n",
    "b = np.ones((2,2))\n",
    "\n",
    "print(np.sum(b,axis=1))\n",
    "print(a.shape)\n",
    "print(np.reshape(a,(1,4)))\n"
   ]
  },
  {
   "cell_type": "code",
   "execution_count": 18,
   "metadata": {
    "collapsed": false,
    "nbpresent": {
     "id": "4e513458-100d-488e-9780-e433b3bf6f46"
    }
   },
   "outputs": [
    {
     "name": "stdout",
     "output_type": "stream",
     "text": [
      "[ 2.  2.]\n",
      "(2, 2)\n",
      "[[ 0.  0.  0.  0.]]\n"
     ]
    }
   ],
   "source": [
    "# jetzt das selbe in Tensorflow\n",
    "import tensorflow as tf\n",
    "\n",
    "a = tf.zeros((2,2))\n",
    "b = tf.ones((2,2))\n",
    "\n",
    "sesh = tf.Session()\n",
    "print(sesh.run(tf.reduce_sum(b,reduction_indices=1)))\n",
    "print(a.get_shape())\n",
    "print(sesh.run(tf.reshape(a,(1,4))))\n",
    "sesh.close()"
   ]
  },
  {
   "cell_type": "markdown",
   "metadata": {
    "nbpresent": {
     "id": "16f0b9bd-c044-4236-a78a-89b0aa86765a"
    }
   },
   "source": [
    "### TensorFlow definiert ein 'Computation Graph'\n",
    "*\"TensorFlow programs are usually structured into a construction phase, that assembles a graph, and an execution phase that uses a session to execute ops in the graph\" - tensorflow docs*\n",
    "- wir mussen explizit `run()` auf ein session rufen\n",
    "- sonnst passiert nichts\n",
    "\n"
   ]
  },
  {
   "cell_type": "code",
   "execution_count": 15,
   "metadata": {
    "collapsed": false,
    "nbpresent": {
     "id": "2ad0df9c-b322-434a-8cff-c14a79c4a71c"
    }
   },
   "outputs": [
    {
     "name": "stdout",
     "output_type": "stream",
     "text": [
      "Here is a : \n",
      "[[ 0.  0.]\n",
      " [ 0.  0.]]\n",
      "ta vor 'run'\n",
      "Tensor(\"zeros_7:0\", shape=(2, 2), dtype=float32)\n",
      "ta nach 'run'\n",
      "[[ 0.  0.]\n",
      " [ 0.  0.]]\n"
     ]
    }
   ],
   "source": [
    "# wir sehen dass in tf man muss 'run' rufen\n",
    "shape = (2,2)\n",
    "a = np.zeros(shape)\n",
    "ta = tf.zeros(shape)\n",
    "\n",
    "sesh = tf.Session()\n",
    "print(\"Here is a : \")\n",
    "print(a)\n",
    "print(\"ta vor 'run'\")\n",
    "print(ta)\n",
    "print(\"ta nach 'run'\")\n",
    "print(sesh.run(ta))\n",
    "sesh.close()"
   ]
  },
  {
   "cell_type": "markdown",
   "metadata": {
    "nbpresent": {
     "id": "75bf78e0-a437-4dea-9023-928741af129c"
    }
   },
   "source": [
    "### Sessions\n",
    "*\" A Session object encapsulates the environment in which Tensor objects are evaluated\"*\n",
    "- kann entweder `tf.InteractiveSession()` laufen, dann operation.eval() \n",
    "- oder ein `tf.Session()` definieren und `run()`"
   ]
  },
  {
   "cell_type": "code",
   "execution_count": 8,
   "metadata": {
    "collapsed": false,
    "nbpresent": {
     "id": "40f2499c-45d9-4252-be3d-6375d00be29a"
    }
   },
   "outputs": [
    {
     "name": "stdout",
     "output_type": "stream",
     "text": [
      "50.0\n",
      "50.0\n"
     ]
    }
   ],
   "source": [
    "a = tf.constant(5.0)\n",
    "b = tf.constant(10.0)\n",
    "c = a*b\n",
    "\n",
    "with tf.Session() as sess:\n",
    "    print(sess.run(c))\n",
    "    print(c.eval())"
   ]
  },
  {
   "cell_type": "markdown",
   "metadata": {
    "nbpresent": {
     "id": "4235e2e8-caf7-4fee-a7af-15c47262c182"
    }
   },
   "source": [
    "### Variables und Placeholders\n",
    "- Variables : für interne daten Strukturen\n",
    "- Placeholders : für input/output\n",
    "\n",
    "#### Variables\n",
    "*\"When you train a model you use variables to hold and update parameters. Variables are in memory buffers containing tensors.\" - TensorFlow Docs*"
   ]
  },
  {
   "cell_type": "code",
   "execution_count": 9,
   "metadata": {
    "collapsed": false
   },
   "outputs": [
    {
     "name": "stdout",
     "output_type": "stream",
     "text": [
      "[[ 0.  0.]\n",
      " [ 0.  0.]]\n",
      "[[ 0.25100324 -0.55892378]\n",
      " [ 1.12517929  0.02812252]]\n"
     ]
    }
   ],
   "source": [
    "a = tf.Variable(tf.zeros(shape),name=\"a\")\n",
    "b = tf.Variable(tf.random_normal(shape),name=\"b\")\n",
    "with tf.Session() as sess:\n",
    "    sess.run(tf.initialize_all_variables())\n",
    "    print(sess.run(a))\n",
    "    print(sess.run(b))"
   ]
  },
  {
   "cell_type": "code",
   "execution_count": 10,
   "metadata": {
    "collapsed": false,
    "nbpresent": {
     "id": "98e9673b-f2ad-4baf-b6f6-327dffb3b07b"
    }
   },
   "outputs": [
    {
     "name": "stdout",
     "output_type": "stream",
     "text": [
      "0\n",
      "1\n",
      "2\n",
      "3\n"
     ]
    }
   ],
   "source": [
    "# build computation graph : \n",
    "a = tf.Variable(0,name=\"counter\")\n",
    "b = tf.add(a,tf.constant(1))\n",
    "update = tf.assign(a,b)\n",
    "\n",
    "# execute the graph : \n",
    "with tf.Session() as sess:\n",
    "    sess.run(tf.initialize_all_variables())\n",
    "    print(sess.run(a))\n",
    "    for _ in range(3):\n",
    "        sess.run(update)\n",
    "        print(sess.run(a))"
   ]
  },
  {
   "cell_type": "markdown",
   "metadata": {},
   "source": [
    "sess.run(variable) gibt den Wert von variable zurück"
   ]
  },
  {
   "cell_type": "code",
   "execution_count": 19,
   "metadata": {
    "collapsed": false,
    "nbpresent": {
     "id": "b78b390b-80b3-45b6-a700-b3909fe7a9bc"
    }
   },
   "outputs": [
    {
     "name": "stdout",
     "output_type": "stream",
     "text": [
      "[30.0, 10.0]\n"
     ]
    }
   ],
   "source": [
    "# sess.run(variable) gibt den Wert von variable zurück\n",
    "a = tf.constant(3.0)\n",
    "b = tf.constant(2.0)\n",
    "c = tf.constant(8.0)\n",
    "b_plus_c = tf.add(b,c)\n",
    "a_mal_bc = tf.mul(a,b_plus_c)\n",
    "\n",
    "with tf.Session() as sess:\n",
    "    d = sess.run([a_mal_bc,b_plus_c])\n",
    "    print(d)"
   ]
  },
  {
   "cell_type": "markdown",
   "metadata": {
    "nbpresent": {
     "id": "ff4dbcd0-a0d5-452c-8885-50f824e31577"
    }
   },
   "source": [
    "#### Placeholders\n",
    "Bis jetzt haben wir explizit tensoren definiert. Normaleweise wollen wir externe Data rein speisen. wir machen dass mit Numpy und Feed Dictionaries"
   ]
  },
  {
   "cell_type": "code",
   "execution_count": 12,
   "metadata": {
    "collapsed": false,
    "nbpresent": {
     "id": "b7afe761-1a68-4d42-86de-7263e7d6f14a"
    }
   },
   "outputs": [
    {
     "name": "stdout",
     "output_type": "stream",
     "text": [
      "[[ 0.  0.]\n",
      " [ 0.  0.]]\n"
     ]
    }
   ],
   "source": [
    "# explizit mit convert_to_tensor\n",
    "a = np.zeros((shape))\n",
    "ta = tf.convert_to_tensor(a)\n",
    "with tf.Session() as sess:\n",
    "    print(sess.run(ta))"
   ]
  },
  {
   "cell_type": "code",
   "execution_count": 13,
   "metadata": {
    "collapsed": false,
    "nbpresent": {
     "id": "bb171202-9110-4a1a-9eee-5095a77741e3"
    }
   },
   "outputs": [
    {
     "name": "stdout",
     "output_type": "stream",
     "text": [
      "[array([ 72.], dtype=float32)]\n"
     ]
    }
   ],
   "source": [
    "# mit feed dictionaries\n",
    "# dictionary mapping from tf.placeholder to data (numpy, lists, etc)\n",
    "a = tf.placeholder(tf.float32)\n",
    "b = tf.placeholder(tf.float32)\n",
    "a_mal_b = tf.mul(a,b)\n",
    "with tf.Session() as sess:\n",
    "    print(sess.run([a_mal_b],\n",
    "                   feed_dict = {a:[8.],b:[9.]}))"
   ]
  },
  {
   "cell_type": "markdown",
   "metadata": {
    "nbpresent": {
     "id": "5489d4f0-9e20-4076-a5d4-bb1b12657362"
    }
   },
   "source": [
    "## Variable Scope\n",
    "- tf.variable_scope() für einfache name-spacing\n",
    "- tf.get_variable() um variablen zu kriegen/generieren (default reuse = False, schafft neue variable, reuse = True sucht und gibt ValueError wenn nicht existiert)"
   ]
  },
  {
   "cell_type": "code",
   "execution_count": 23,
   "metadata": {
    "collapsed": false,
    "nbpresent": {
     "id": "b1f8512f-130e-44dc-b6a1-c66efa811dea"
    }
   },
   "outputs": [
    {
     "name": "stdout",
     "output_type": "stream",
     "text": [
      "layer1/inside_layer1/v:0\n"
     ]
    }
   ],
   "source": [
    "with tf.variable_scope(\"layer1\",reuse=True):\n",
    "    with tf.variable_scope(\"inside_layer1\",reuse=True):\n",
    "        v = tf.get_variable(\"v\",[1])\n",
    "print(v.name)"
   ]
  },
  {
   "cell_type": "code",
   "execution_count": 2,
   "metadata": {
    "collapsed": false
   },
   "outputs": [
    {
     "data": {
      "image/png": "[encoded data removed]",
      "text/plain": [
       "<matplotlib.figure.Figure at 0x11b84e048>"
      ]
     },
     "metadata": {},
     "output_type": "display_data"
    }
   ],
   "source": [
    "## Linear Regression in TF\n",
    "import tensorflow as tf\n",
    "import numpy as np\n",
    "from matplotlib import pyplot as plt\n",
    "%matplotlib inline\n",
    "\n",
    "# make the data\n",
    "x_data = np.arange(100,step=.1)\n",
    "y_data = x_data+np.sin(x_data/10)*20\n",
    "\n",
    "# plot the data\n",
    "plt.scatter(x_data,y_data)\n",
    "\n",
    "n_samples = 1000\n",
    "batch_size = 100\n",
    "\n",
    "x_data = np.reshape(x_data,(n_samples,1))\n",
    "y_data = np.reshape(y_data,(n_samples,1))\n",
    "\n",
    "x = tf.placeholder(tf.float32,shape=(batch_size,1))\n",
    "y = tf.placeholder(tf.float32,shape=(batch_size,1))\n",
    "\n",
    "with tf.variable_scope(\"linear-regression\",reuse=None):\n",
    "    w = tf.get_variable(\"weights\",(1,1),\n",
    "                        initializer = tf.random_normal_initializer())\n",
    "    b = tf.get_variable(\"bias\",(1,),\n",
    "                        initializer=tf.constant_initializer(0.0))\n",
    "    y_pred = tf.matmul(x,w)+b\n",
    "    loss = tf.reduce_sum((y-y_pred)**2/n_samples)"
   ]
  },
  {
   "cell_type": "markdown",
   "metadata": {},
   "source": [
    "### 1 Training Schritt"
   ]
  },
  {
   "cell_type": "code",
   "execution_count": 4,
   "metadata": {
    "collapsed": false
   },
   "outputs": [
    {
     "name": "stdout",
     "output_type": "stream",
     "text": [
      "Loss val ist : 24.671120\n"
     ]
    }
   ],
   "source": [
    "# gradient descent optimierung algorithmus definieren\n",
    "opt = tf.train.AdamOptimizer()\n",
    "\n",
    "# tensorflow scope ist nicht python scope! kann immernoch loss sehen\n",
    "opt_operation = opt.minimize(loss)\n",
    "\n",
    "with tf.Session() as sess:\n",
    "    indices = np.random.choice(n_samples,batch_size)\n",
    "    sess.run(tf.initialize_all_variables())\n",
    "    x_batch,y_batch = x_data[indices], y_data[indices]\n",
    "    _,loss_val = sess.run([opt_operation,loss],\n",
    "                          feed_dict={x:x_batch,y:y_batch})\n",
    "    print(\"Loss val ist : %f\"%loss_val)"
   ]
  },
  {
   "cell_type": "code",
   "execution_count": 7,
   "metadata": {
    "collapsed": false
   },
   "outputs": [
    {
     "name": "stdout",
     "output_type": "stream",
     "text": [
      "Loss val ist : 840.224426\n",
      "y = -0.53x + 0.00\n",
      "Loss val ist : 765.955200\n",
      "y = -0.44x + 0.10\n",
      "Loss val ist : 657.219727\n",
      "y = -0.34x + 0.20\n",
      "Loss val ist : 682.508667\n",
      "y = -0.25x + 0.29\n",
      "Loss val ist : 542.989014\n",
      "y = -0.16x + 0.38\n",
      "Loss val ist : 370.472839\n",
      "y = -0.07x + 0.46\n",
      "Loss val ist : 342.401581\n",
      "y = 0.01x + 0.55\n",
      "Loss val ist : 311.155029\n",
      "y = 0.09x + 0.63\n",
      "Loss val ist : 228.678452\n",
      "y = 0.17x + 0.70\n",
      "Loss val ist : 223.472961\n",
      "y = 0.24x + 0.78\n",
      "Loss val ist : 223.584717\n",
      "y = 0.31x + 0.85\n",
      "Loss val ist : 147.632507\n",
      "y = 0.37x + 0.91\n",
      "Loss val ist : 124.829414\n",
      "y = 0.44x + 0.98\n",
      "Loss val ist : 117.420898\n",
      "y = 0.49x + 1.04\n",
      "Loss val ist : 94.590927\n",
      "y = 0.55x + 1.09\n",
      "Loss val ist : 87.959297\n",
      "y = 0.60x + 1.15\n",
      "Loss val ist : 67.162323\n",
      "y = 0.65x + 1.20\n",
      "Loss val ist : 61.945625\n",
      "y = 0.70x + 1.24\n",
      "Loss val ist : 44.777527\n",
      "y = 0.74x + 1.28\n",
      "Loss val ist : 36.866646\n",
      "y = 0.77x + 1.32\n",
      "Loss val ist : 29.017834\n",
      "y = 0.81x + 1.36\n",
      "Loss val ist : 29.209818\n",
      "y = 0.84x + 1.39\n",
      "Loss val ist : 27.083380\n",
      "y = 0.87x + 1.42\n",
      "Loss val ist : 20.381195\n",
      "y = 0.89x + 1.45\n",
      "Loss val ist : 22.726997\n",
      "y = 0.92x + 1.48\n",
      "Loss val ist : 22.032284\n",
      "y = 0.94x + 1.50\n",
      "Loss val ist : 17.423840\n",
      "y = 0.95x + 1.52\n",
      "Loss val ist : 19.557634\n",
      "y = 0.97x + 1.53\n",
      "Loss val ist : 18.760042\n",
      "y = 0.98x + 1.55\n",
      "Loss val ist : 18.763889\n",
      "y = 0.99x + 1.56\n",
      "Loss val ist : 18.231434\n",
      "y = 1.00x + 1.58\n",
      "Loss val ist : 17.601894\n",
      "y = 1.00x + 1.59\n",
      "Loss val ist : 19.317123\n",
      "y = 1.01x + 1.60\n",
      "Loss val ist : 17.364552\n",
      "y = 1.01x + 1.61\n",
      "Loss val ist : 19.480141\n",
      "y = 1.02x + 1.62\n",
      "Loss val ist : 18.079397\n",
      "y = 1.02x + 1.62\n",
      "Loss val ist : 21.479834\n",
      "y = 1.02x + 1.63\n",
      "Loss val ist : 17.837080\n",
      "y = 1.02x + 1.64\n",
      "Loss val ist : 20.029575\n",
      "y = 1.02x + 1.64\n",
      "Loss val ist : 18.585817\n",
      "y = 1.02x + 1.65\n",
      "Loss val ist : 17.828297\n",
      "y = 1.02x + 1.66\n",
      "Loss val ist : 17.682049\n",
      "y = 1.02x + 1.67\n",
      "Loss val ist : 16.642975\n",
      "y = 1.02x + 1.67\n",
      "Loss val ist : 20.529068\n",
      "y = 1.02x + 1.68\n",
      "Loss val ist : 19.139923\n",
      "y = 1.02x + 1.69\n",
      "Loss val ist : 18.275543\n",
      "y = 1.02x + 1.70\n",
      "Loss val ist : 16.719395\n",
      "y = 1.02x + 1.71\n",
      "Loss val ist : 19.611013\n",
      "y = 1.02x + 1.72\n",
      "Loss val ist : 17.677887\n",
      "y = 1.02x + 1.73\n",
      "Loss val ist : 17.791811\n",
      "y = 1.02x + 1.74\n",
      "Loss val ist : 19.004471\n",
      "y = 1.02x + 1.75\n",
      "Loss val ist : 19.207680\n",
      "y = 1.02x + 1.76\n",
      "Loss val ist : 17.377075\n",
      "y = 1.02x + 1.78\n",
      "Loss val ist : 18.968273\n",
      "y = 1.02x + 1.79\n",
      "Loss val ist : 19.267628\n",
      "y = 1.02x + 1.81\n",
      "Loss val ist : 17.280407\n",
      "y = 1.02x + 1.82\n",
      "Loss val ist : 19.684677\n",
      "y = 1.02x + 1.83\n",
      "Loss val ist : 17.065706\n",
      "y = 1.02x + 1.85\n",
      "Loss val ist : 17.747307\n",
      "y = 1.02x + 1.86\n",
      "Loss val ist : 18.665318\n",
      "y = 1.02x + 1.88\n",
      "Loss val ist : 16.789434\n",
      "y = 1.02x + 1.90\n",
      "Loss val ist : 17.389708\n",
      "y = 1.02x + 1.91\n",
      "Loss val ist : 18.568632\n",
      "y = 1.02x + 1.93\n",
      "Loss val ist : 19.089390\n",
      "y = 1.02x + 1.95\n",
      "Loss val ist : 18.890835\n",
      "y = 1.02x + 1.97\n",
      "Loss val ist : 20.503426\n",
      "y = 1.02x + 1.99\n",
      "Loss val ist : 20.819176\n",
      "y = 1.02x + 2.00\n",
      "Loss val ist : 18.009520\n",
      "y = 1.01x + 2.03\n",
      "Loss val ist : 16.672279\n",
      "y = 1.01x + 2.05\n",
      "Loss val ist : 16.650146\n",
      "y = 1.01x + 2.07\n",
      "Loss val ist : 18.030678\n",
      "y = 1.02x + 2.09\n",
      "Loss val ist : 17.475250\n",
      "y = 1.02x + 2.12\n",
      "Loss val ist : 16.240976\n",
      "y = 1.01x + 2.14\n",
      "Loss val ist : 18.552973\n",
      "y = 1.02x + 2.17\n",
      "Loss val ist : 18.172207\n",
      "y = 1.01x + 2.19\n",
      "Loss val ist : 20.468882\n",
      "y = 1.01x + 2.22\n",
      "Loss val ist : 17.718357\n",
      "y = 1.01x + 2.25\n",
      "Loss val ist : 18.940887\n",
      "y = 1.01x + 2.29\n",
      "Loss val ist : 17.349611\n",
      "y = 1.01x + 2.32\n",
      "Loss val ist : 19.668665\n",
      "y = 1.01x + 2.34\n",
      "Loss val ist : 21.659454\n",
      "y = 1.01x + 2.38\n",
      "Loss val ist : 19.417152\n",
      "y = 1.01x + 2.41\n",
      "Loss val ist : 15.891850\n",
      "y = 1.01x + 2.44\n",
      "Loss val ist : 17.377544\n",
      "y = 1.01x + 2.47\n",
      "Loss val ist : 18.281530\n",
      "y = 1.01x + 2.51\n",
      "Loss val ist : 16.945084\n",
      "y = 1.01x + 2.54\n",
      "Loss val ist : 19.854252\n",
      "y = 1.01x + 2.57\n",
      "Loss val ist : 18.085833\n",
      "y = 1.00x + 2.60\n",
      "Loss val ist : 18.611525\n",
      "y = 1.01x + 2.64\n",
      "Loss val ist : 20.649536\n",
      "y = 1.01x + 2.67\n",
      "Loss val ist : 16.603012\n",
      "y = 1.01x + 2.71\n",
      "Loss val ist : 14.987478\n",
      "y = 1.01x + 2.75\n",
      "Loss val ist : 18.768383\n",
      "y = 1.01x + 2.78\n",
      "Loss val ist : 15.371375\n",
      "y = 1.01x + 2.81\n",
      "Loss val ist : 18.306425\n",
      "y = 1.00x + 2.85\n",
      "Loss val ist : 18.144629\n",
      "y = 1.00x + 2.88\n",
      "Loss val ist : 19.391417\n",
      "y = 1.00x + 2.92\n",
      "Loss val ist : 15.338886\n",
      "y = 1.00x + 2.95\n",
      "Loss val ist : 17.740583\n",
      "y = 1.00x + 3.00\n",
      "Loss val ist : 17.976540\n",
      "y = 1.00x + 3.03\n"
     ]
    }
   ],
   "source": [
    "opt_operation = tf.train.AdamOptimizer().minimize(loss)\n",
    "weight,bias = 0,0\n",
    "with tf.Session() as sess:\n",
    "    sess.run(tf.initialize_all_variables())\n",
    "    \n",
    "    for i in range(10000):\n",
    "        indices = np.random.choice(n_samples,batch_size)\n",
    "        x_batch,y_batch = x_data[indices], y_data[indices]\n",
    "        _,loss_val,weight,bias = sess.run([opt_operation,loss,w,b],\n",
    "                             feed_dict = {x:x_batch,y:y_batch})\n",
    "        if (i%100 == 0):\n",
    "            print(\"Loss val ist : %f\"%loss_val)\n",
    "            print(\"y = %0.2fx + %0.2f\"%(weight,bias))"
   ]
  },
  {
   "cell_type": "code",
   "execution_count": 8,
   "metadata": {
    "collapsed": false
   },
   "outputs": [
    {
     "data": {
      "image/png": "[encoded data removed]",
      "text/plain": [
       "<matplotlib.figure.Figure at 0x11bdc1390>"
      ]
     },
     "metadata": {},
     "output_type": "display_data"
    }
   ],
   "source": [
    "plt.plot(x_data,x_data*weight+bias)\n",
    "plt.plot(x_data,y_data)\n",
    "plt.show()"
   ]
  },
  {
   "cell_type": "markdown",
   "metadata": {},
   "source": [
    "- tf.train.Optimizer ist ein optimizer\n",
    "- tf.train.Optimizer.minimize(loss,var_list) baut die optimierung in unsere computation graph ein\n",
    "- automatische differenzierung!! ohne user input!"
   ]
  },
  {
   "cell_type": "markdown",
   "metadata": {},
   "source": [
    "### White paper to TensorFlow\n",
    "The white paper is [here](http://download.tensorflow.org/paper/whitepaper2015.pdf). \n",
    "TensorFlow computation described by a graph composed of a set of nodes. Each node represents (the instantiation of) an *operation*, has zero or more inputs/outputs. Values that flow along normal edges are tensors (arbitrary dimensionality arrays)\n",
    "- special edges called *control dependencies* can also exist : no data flows along such edges, but say source node must finish before execution of destination node (enforce happens before relationships)\n",
    "- an *operation* represents an abstract computation, has a name (eg matrix multiply, add). Can have attributes (eg make polymorphic so can add int/float tensors)\n",
    "- a *kernel* is a particular implementation of an operation that can run on a particular type of device (eg CPU/GPU)\n",
    "- the *session* allows client programs to interact with tf system. Computational graph is empty when session created, session adds nodes/edges with extend. Run takes a set of output names that need to be computed as well as an optional set of tensors to be fed into the graph. Arranges and executes appropriate nodes in order that respect their dependencies.\n",
    "- usually set up a session with a graph once and then execute the full graph thousands/millions of times with run calls.\n",
    "- most tensors do not survive past a single execution in a graph. A *variable* is a special kind of operation that returns a handle to a persistent mutable tensor that survives across executions of a graph.\n",
    "- automatic differentiation : when need to compute gradient of C with respect to I, then tf finds the path in computation graph from I to C. Then backtracks from C to I and, for each operation in the backward path, adds a node to the tf graph, compsoing the partial gradients alon gthe backwards path using the chain rule. This added node computes the 'gradient function' for the corresponding operation in the forward path. Any operation can register a gradient function. This function takes as input not only partial gradients computed already along backward path, but also (optionally) inputs/outputs of the forward operation. \n",
    "\n",
    "- can run the graph from any node (subgraphs) using run.Run() takes output nodes and input data (using feed_dict). Feed and Fetch nodes are then added to graph (have operations for inputing/saving data). Once added the set of nodes required for execution is determined by starting at each output node and working backward in the graph using graph dependences to determine full set of nodes to be run"
   ]
  },
  {
   "cell_type": "code",
   "execution_count": null,
   "metadata": {
    "collapsed": true
   },
   "outputs": [],
   "source": []
  }
 ],
 "metadata": {
  "anaconda-cloud": {},
  "kernelspec": {
   "display_name": "Python [tensorflow]",
   "language": "python",
   "name": "Python [tensorflow]"
  },
  "language_info": {
   "codemirror_mode": {
    "name": "ipython",
    "version": 3
   },
   "file_extension": ".py",
   "mimetype": "text/x-python",
   "name": "python",
   "nbconvert_exporter": "python",
   "pygments_lexer": "ipython3",
   "version": "3.5.2"
  },
  "nbpresent": {
   "slides": {
    "05a883c7-5028-448a-8ac5-cc4ecc189aff": {
     "id": "05a883c7-5028-448a-8ac5-cc4ecc189aff",
     "prev": "7e332cff-cba0-4943-b228-29b05fcaf548",
     "regions": {
      "a43d86dc-f312-4860-a31d-9c4b0eefe7db": {
       "attrs": {
        "height": 0.8066090042137947,
        "width": 0.914071856287425,
        "x": 0.04999999999999981,
        "y": 0.10113107119095142
       },
       "content": {
        "cell": "b06aa1ad-2e1b-41d9-9db4-7c3da39a7586",
        "part": "source"
       },
       "id": "a43d86dc-f312-4860-a31d-9c4b0eefe7db"
      }
     },
     "theme": null
    },
    "1c48e299-3005-409a-8f5c-0d0fb686223e": {
     "id": "1c48e299-3005-409a-8f5c-0d0fb686223e",
     "prev": "56ec188a-cfdf-458d-8a81-2a568af19531",
     "regions": {
      "362e929b-102f-47ea-af74-c82ee37964db": {
       "attrs": {
        "height": 0.18966511421601248,
        "width": 0.8971057884231538,
        "x": 0.05289421157684631,
        "y": 0.7475937014859171
       },
       "content": {
        "cell": "98e9673b-f2ad-4baf-b6f6-327dffb3b07b",
        "part": "outputs"
       },
       "id": "362e929b-102f-47ea-af74-c82ee37964db"
      },
      "3d9292b7-6a6c-4c75-b92f-7c80eb36a533": {
       "attrs": {
        "height": 0.6349966733200266,
        "width": 0.9030938123752494,
        "x": 0.05,
        "y": 0.1
       },
       "content": {
        "cell": "98e9673b-f2ad-4baf-b6f6-327dffb3b07b",
        "part": "source"
       },
       "id": "3d9292b7-6a6c-4c75-b92f-7c80eb36a533"
      }
     }
    },
    "27bd7dcf-aced-44ea-a0ca-6104c3264230": {
     "id": "27bd7dcf-aced-44ea-a0ca-6104c3264230",
     "prev": "a5acec0e-13ba-43a1-99f9-6e198c324824",
     "regions": {
      "7f6e3979-5435-46e3-b303-c3ea6e3e1c50": {
       "attrs": {
        "height": 0.8,
        "width": 0.45,
        "x": 0.05,
        "y": 0.1
       },
       "content": {
        "cell": "2ad0df9c-b322-434a-8cff-c14a79c4a71c",
        "part": "source"
       },
       "id": "7f6e3979-5435-46e3-b303-c3ea6e3e1c50"
      },
      "bd39868e-1d5d-4099-b9d8-360e91649709": {
       "attrs": {
        "height": 0.8,
        "width": 0.45,
        "x": 0.5,
        "y": 0.1
       },
       "content": {
        "cell": "2ad0df9c-b322-434a-8cff-c14a79c4a71c",
        "part": "outputs"
       },
       "id": "bd39868e-1d5d-4099-b9d8-360e91649709"
      }
     }
    },
    "51b9631d-aa68-4d03-b2a9-ec723f438034": {
     "id": "51b9631d-aa68-4d03-b2a9-ec723f438034",
     "prev": "e0b87985-6858-45a5-925b-ed4702fa5475",
     "regions": {
      "ecb3bdb9-9503-4005-b87b-31bd3dbdd485": {
       "attrs": {
        "height": 0.8499999999999998,
        "width": 0.8999999999999999,
        "x": 0.05000000000000002,
        "y": 0.10000000000000002
       },
       "content": {
        "cell": "ff4dbcd0-a0d5-452c-8885-50f824e31577",
        "part": "source"
       },
       "id": "ecb3bdb9-9503-4005-b87b-31bd3dbdd485"
      }
     }
    },
    "5583f8b9-d266-41e5-aaeb-e9b40a414def": {
     "id": "5583f8b9-d266-41e5-aaeb-e9b40a414def",
     "prev": "c41fa8c9-61eb-4fd9-ac9e-8ce7a26f32d1",
     "regions": {
      "1bb70541-eb3c-48d7-ab81-f3c0c243c5e1": {
       "attrs": {
        "height": 0.5498336660013307,
        "width": 0.9023952095808386,
        "x": 0.05,
        "y": 0.1
       },
       "content": {
        "cell": "b1f8512f-130e-44dc-b6a1-c66efa811dea",
        "part": "source"
       },
       "id": "1bb70541-eb3c-48d7-ab81-f3c0c243c5e1"
      },
      "e9472139-5c8f-4f8f-a310-efd1f75985c4": {
       "attrs": {
        "height": 0.21982701264138396,
        "width": 0.8967065868263474,
        "x": 0.053293413173652895,
        "y": 0.6801729873586161
       },
       "content": {
        "cell": "b1f8512f-130e-44dc-b6a1-c66efa811dea",
        "part": "outputs"
       },
       "id": "e9472139-5c8f-4f8f-a310-efd1f75985c4"
      }
     }
    },
    "56ec188a-cfdf-458d-8a81-2a568af19531": {
     "id": "56ec188a-cfdf-458d-8a81-2a568af19531",
     "prev": "d14ddd1f-4dbf-436b-818d-0478b9beac69",
     "regions": {
      "68f9c502-bfc7-43e6-b1b2-d4b9696d998e": {
       "attrs": {
        "height": 0.8499999999999999,
        "width": 0.8999999999999999,
        "x": 0.05,
        "y": 0.1
       },
       "content": {
        "cell": "4235e2e8-caf7-4fee-a7af-15c47262c182",
        "part": "source"
       },
       "id": "68f9c502-bfc7-43e6-b1b2-d4b9696d998e"
      }
     }
    },
    "6d99dbf4-7c06-42d3-9eec-77209ad53379": {
     "id": "6d99dbf4-7c06-42d3-9eec-77209ad53379",
     "prev": "51b9631d-aa68-4d03-b2a9-ec723f438034",
     "regions": {
      "02bf2dd9-f35d-46d0-916d-cab23ae6d4c6": {
       "attrs": {
        "height": 0.18966511421601248,
        "width": 0.8981037924151698,
        "x": 0.05189620758483034,
        "y": 0.7103348857839876
       },
       "content": {
        "cell": "b7afe761-1a68-4d42-86de-7263e7d6f14a",
        "part": "outputs"
       },
       "id": "02bf2dd9-f35d-46d0-916d-cab23ae6d4c6"
      },
      "bc23e66e-cd80-4b70-bdf1-ca21bf1f84cc": {
       "attrs": {
        "height": 0.5924151696606788,
        "width": 0.8971057884231537,
        "x": 0.05,
        "y": 0.1
       },
       "content": {
        "cell": "b7afe761-1a68-4d42-86de-7263e7d6f14a",
        "part": "source"
       },
       "id": "bc23e66e-cd80-4b70-bdf1-ca21bf1f84cc"
      }
     }
    },
    "7e332cff-cba0-4943-b228-29b05fcaf548": {
     "id": "7e332cff-cba0-4943-b228-29b05fcaf548",
     "prev": "ddcd2622-209e-4c4d-92a4-4f4b396dd34d",
     "regions": {
      "0f90a7dd-78a7-49f4-bfa0-02468762012d": {
       "attrs": {
        "height": 0.8083832335329342,
        "width": 0.9141716566866267,
        "x": 0.0499001996007984,
        "y": 0.09935684187181193
       },
       "content": {
        "cell": "334d71ff-092c-4144-ba96-1318a2209f4c",
        "part": "source"
       },
       "id": "0f90a7dd-78a7-49f4-bfa0-02468762012d"
      }
     },
     "theme": null
    },
    "a5acec0e-13ba-43a1-99f9-6e198c324824": {
     "id": "a5acec0e-13ba-43a1-99f9-6e198c324824",
     "prev": "e69ee264-e100-458f-a99f-f642118b8ca6",
     "regions": {
      "c792586b-babe-43b0-bf4a-46702a96c44b": {
       "attrs": {
        "height": 0.8499999999999999,
        "width": 0.8999999999999999,
        "x": 0.05,
        "y": 0.10000000000000002
       },
       "content": {
        "cell": "16f0b9bd-c044-4236-a78a-89b0aa86765a",
        "part": "source"
       },
       "id": "c792586b-babe-43b0-bf4a-46702a96c44b"
      }
     }
    },
    "c41fa8c9-61eb-4fd9-ac9e-8ce7a26f32d1": {
     "id": "c41fa8c9-61eb-4fd9-ac9e-8ce7a26f32d1",
     "prev": "d3a2cfba-e267-42a3-ac56-cd2d6284b904",
     "regions": {
      "d8793259-76ee-413a-9aa4-c94b50b42b85": {
       "attrs": {
        "height": 0.8988689288090486,
        "width": 0.9000998003992016,
        "x": 0.04990019960079842,
        "y": 0.10113107119095142
       },
       "content": {
        "cell": "5489d4f0-9e20-4076-a5d4-bb1b12657362",
        "part": "source"
       },
       "id": "d8793259-76ee-413a-9aa4-c94b50b42b85"
      }
     }
    },
    "d14ddd1f-4dbf-436b-818d-0478b9beac69": {
     "id": "d14ddd1f-4dbf-436b-818d-0478b9beac69",
     "prev": "f1727ddf-c66a-4edc-aba4-daaddaa4f6bd",
     "regions": {
      "98b9e54f-c092-4d99-a3ec-639db28d114b": {
       "attrs": {
        "height": 0.6420935905965847,
        "width": 0.8991017964071856,
        "x": 0.05,
        "y": 0.1
       },
       "content": {
        "cell": "40f2499c-45d9-4252-be3d-6375d00be29a",
        "part": "source"
       },
       "id": "98b9e54f-c092-4d99-a3ec-639db28d114b"
      },
      "d0fdaec3-fd92-46e2-a1b9-375a9350b947": {
       "attrs": {
        "height": 0.18789088489687297,
        "width": 0.8981037924151698,
        "x": 0.050898203592814426,
        "y": 0.7475937014859171
       },
       "content": {
        "cell": "40f2499c-45d9-4252-be3d-6375d00be29a",
        "part": "outputs"
       },
       "id": "d0fdaec3-fd92-46e2-a1b9-375a9350b947"
      }
     }
    },
    "d3a2cfba-e267-42a3-ac56-cd2d6284b904": {
     "id": "d3a2cfba-e267-42a3-ac56-cd2d6284b904",
     "prev": "6d99dbf4-7c06-42d3-9eec-77209ad53379",
     "regions": {
      "b3b2976c-53ad-4989-a6d1-0ade6841e21d": {
       "attrs": {
        "height": 0.6545131958305611,
        "width": 0.8961077844311377,
        "x": 0.05,
        "y": 0.1
       },
       "content": {
        "cell": "bb171202-9110-4a1a-9eee-5095a77741e3",
        "part": "source"
       },
       "id": "b3b2976c-53ad-4989-a6d1-0ade6841e21d"
      },
      "d4c4e10b-032f-499c-b2c7-98cf83bbf425": {
       "attrs": {
        "height": 0.12579285872699053,
        "width": 0.8961077844311378,
        "x": 0.05389221556886228,
        "y": 0.7742071412730096
       },
       "content": {
        "cell": "bb171202-9110-4a1a-9eee-5095a77741e3",
        "part": "outputs"
       },
       "id": "d4c4e10b-032f-499c-b2c7-98cf83bbf425"
      }
     }
    },
    "d5fe834b-fcbd-41a3-a1e2-86261796a9b7": {
     "id": "d5fe834b-fcbd-41a3-a1e2-86261796a9b7",
     "prev": "05a883c7-5028-448a-8ac5-cc4ecc189aff",
     "regions": {
      "3284c815-8b5d-4d44-8bfd-39e57e6f2994": {
       "attrs": {
        "height": 0.8,
        "width": 0.45,
        "x": 0.05,
        "y": 0.1
       },
       "content": {
        "cell": "a49fa2d3-fc68-4cbe-88ca-a716e6ef3273",
        "part": "source"
       },
       "id": "3284c815-8b5d-4d44-8bfd-39e57e6f2994"
      },
      "45f8a8fa-e65c-474b-b0d9-8989c26c90e4": {
       "attrs": {
        "height": 0.8,
        "width": 0.45,
        "x": 0.5,
        "y": 0.1
       },
       "content": {
        "cell": "a49fa2d3-fc68-4cbe-88ca-a716e6ef3273",
        "part": "outputs"
       },
       "id": "45f8a8fa-e65c-474b-b0d9-8989c26c90e4"
      }
     }
    },
    "dd18fd6d-1335-4b5c-94f6-7873abfb685d": {
     "id": "dd18fd6d-1335-4b5c-94f6-7873abfb685d",
     "layout": "manual",
     "prev": null,
     "regions": {
      "c6f1aac8-b803-4214-ab62-072108eec4d4": {
       "attrs": {
        "height": 0.7978487469505433,
        "pad": 0.01,
        "width": 0.8133732534930139,
        "x": 0.04972198460222416,
        "y": 0.09977030066850426
       },
       "content": {
        "cell": "566ee3fd-7e78-45b0-8fca-c4cd7c594b14",
        "part": "source"
       },
       "id": "c6f1aac8-b803-4214-ab62-072108eec4d4"
      }
     }
    },
    "ddcd2622-209e-4c4d-92a4-4f4b396dd34d": {
     "id": "ddcd2622-209e-4c4d-92a4-4f4b396dd34d",
     "prev": "dd18fd6d-1335-4b5c-94f6-7873abfb685d",
     "regions": {
      "36f72174-9749-4dac-8186-d8a8b344aab4": {
       "attrs": {
        "height": 0.8066090042137947,
        "width": 0.9131736526946108,
        "x": 0.05089820359281437,
        "y": 0.10113107119095142
       },
       "content": {
        "cell": "3de898cd-eb01-4437-a0d6-c4b0375ade79",
        "part": "source"
       },
       "id": "36f72174-9749-4dac-8186-d8a8b344aab4"
      }
     },
     "theme": null
    },
    "e0b87985-6858-45a5-925b-ed4702fa5475": {
     "id": "e0b87985-6858-45a5-925b-ed4702fa5475",
     "prev": "1c48e299-3005-409a-8f5c-0d0fb686223e",
     "regions": {
      "22d3599e-6a59-4133-b104-469b90e149db": {
       "attrs": {
        "height": 0.1754712796628965,
        "width": 0.8971057884231538,
        "x": 0.05189620758483034,
        "y": 0.7280771789753826
       },
       "content": {
        "cell": "b78b390b-80b3-45b6-a700-b3909fe7a9bc",
        "part": "outputs"
       },
       "id": "22d3599e-6a59-4133-b104-469b90e149db"
      },
      "b2c31436-5d3a-4b88-bb7f-a6a6c0d1a2e4": {
       "attrs": {
        "height": 0.6101574628520737,
        "width": 0.8971057884231537,
        "x": 0.05,
        "y": 0.1
       },
       "content": {
        "cell": "b78b390b-80b3-45b6-a700-b3909fe7a9bc",
        "part": "source"
       },
       "id": "b2c31436-5d3a-4b88-bb7f-a6a6c0d1a2e4"
      }
     }
    },
    "e69ee264-e100-458f-a99f-f642118b8ca6": {
     "id": "e69ee264-e100-458f-a99f-f642118b8ca6",
     "prev": "d5fe834b-fcbd-41a3-a1e2-86261796a9b7",
     "regions": {
      "7888d413-cf6e-4388-97e2-721fb44fc9d9": {
       "attrs": {
        "height": 0.8,
        "width": 0.45,
        "x": 0.05,
        "y": 0.1
       },
       "content": {
        "cell": "4e513458-100d-488e-9780-e433b3bf6f46",
        "part": "source"
       },
       "id": "7888d413-cf6e-4388-97e2-721fb44fc9d9"
      },
      "9b9566e1-818a-4f9c-9918-4254f5909298": {
       "attrs": {
        "height": 0.8,
        "width": 0.45,
        "x": 0.5,
        "y": 0.1
       },
       "content": {
        "cell": "4e513458-100d-488e-9780-e433b3bf6f46",
        "part": "outputs"
       },
       "id": "9b9566e1-818a-4f9c-9918-4254f5909298"
      }
     }
    },
    "f1727ddf-c66a-4edc-aba4-daaddaa4f6bd": {
     "id": "f1727ddf-c66a-4edc-aba4-daaddaa4f6bd",
     "prev": "27bd7dcf-aced-44ea-a0ca-6104c3264230",
     "regions": {
      "9c9dd400-2a45-4c53-9f94-f688d7e47b05": {
       "attrs": {
        "height": 0.9,
        "width": 0.9,
        "x": 0.05000000000000002,
        "y": 0.1
       },
       "content": {
        "cell": "75bf78e0-a437-4dea-9023-928741af129c",
        "part": "source"
       },
       "id": "9c9dd400-2a45-4c53-9f94-f688d7e47b05"
      }
     }
    }
   },
   "themes": {
    "default": "d4d8c2a5-e548-4355-ba95-29483993c329",
    "theme": {
     "d4d8c2a5-e548-4355-ba95-29483993c329": {
      "id": "d4d8c2a5-e548-4355-ba95-29483993c329",
      "palette": {
       "19cc588f-0593-49c9-9f4b-e4d7cc113b1c": {
        "id": "19cc588f-0593-49c9-9f4b-e4d7cc113b1c",
        "rgb": [
         252,
         252,
         252
        ]
       },
       "31af15d2-7e15-44c5-ab5e-e04b16a89eff": {
        "id": "31af15d2-7e15-44c5-ab5e-e04b16a89eff",
        "rgb": [
         68,
         68,
         68
        ]
       },
       "50f92c45-a630-455b-aec3-788680ec7410": {
        "id": "50f92c45-a630-455b-aec3-788680ec7410",
        "rgb": [
         155,
         177,
         192
        ]
       },
       "c5cc3653-2ee1-402a-aba2-7caae1da4f6c": {
        "id": "c5cc3653-2ee1-402a-aba2-7caae1da4f6c",
        "rgb": [
         43,
         126,
         184
        ]
       },
       "efa7f048-9acb-414c-8b04-a26811511a21": {
        "id": "efa7f048-9acb-414c-8b04-a26811511a21",
        "rgb": [
         25.118061674008803,
         73.60176211453744,
         107.4819383259912
        ]
       }
      },
      "rules": {
       "blockquote": {
        "color": "50f92c45-a630-455b-aec3-788680ec7410"
       },
       "code": {
        "font-family": "Anonymous Pro"
       },
       "h1": {
        "color": "c5cc3653-2ee1-402a-aba2-7caae1da4f6c",
        "font-family": "Lato",
        "font-size": 8
       },
       "h2": {
        "color": "c5cc3653-2ee1-402a-aba2-7caae1da4f6c",
        "font-family": "Lato",
        "font-size": 6
       },
       "h3": {
        "color": "50f92c45-a630-455b-aec3-788680ec7410",
        "font-family": "Lato",
        "font-size": 5.5
       },
       "h4": {
        "color": "c5cc3653-2ee1-402a-aba2-7caae1da4f6c",
        "font-family": "Lato",
        "font-size": 5
       },
       "h5": {
        "font-family": "Lato"
       },
       "h6": {
        "font-family": "Lato"
       },
       "h7": {
        "font-family": "Lato"
       },
       "pre": {
        "font-family": "Anonymous Pro",
        "font-size": 4
       }
      },
      "text-base": {
       "font-family": "Merriweather",
       "font-size": 4
      }
     }
    }
   }
  }
 },
 "nbformat": 4,
 "nbformat_minor": 0
}
