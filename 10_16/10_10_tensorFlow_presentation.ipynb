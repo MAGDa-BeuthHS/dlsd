{
 "cells": [
  {
   "cell_type": "markdown",
   "metadata": {
    "nbpresent": {
     "id": "3de898cd-eb01-4437-a0d6-c4b0375ade79"
    }
   },
   "source": [
    "### Es gibt viele Deep-Learning Packages : \n",
    "- Torch\n",
    "- Caffe\n",
    "- Theano (Keras, Lasagne)\n",
    "- Tensorflow\n",
    "- etc\n",
    "\n",
    "### Wie unterscheiden sie sich?\n",
    "1. *Configuration file* (Caffe, CNTK) vs *Programmatic Generation* ( Torch, Theano, Tensorflow)\n",
    "2. high level language : Python (theano, Tensorflow) vs Lua \n",
    "\n",
    "### Was ist TensorFlow?\n",
    "- ein Deep Learning Library von Google, jetzt open source\n",
    "- definiert primitive um funktionen mit Tensoren aufzubauen\n",
    "- automatische Berechnung die Ableitung von Tensoren\n",
    "- \"TensorFlow computations are expressed as stateful dataflow graphs\"\n",
    "- \"takes com- putations described using a dataflow-like model and maps them onto a wide variety of different hardware platforms\"\n",
    "\n",
    "### Was ist ein Tensor?\n",
    "- matematische Beschreibung von einheits Vektoren \n",
    "- a typed, multidimensional array\n",
    "- wichtig : ein Skalar ist ein tensor mit index 1, ein vector ist ein tensor mit index 2, matrix 3 (immer reshape() benutzen)"
   ]
  },
  {
   "cell_type": "code",
   "execution_count": 5,
   "metadata": {
    "collapsed": false,
    "nbpresent": {
     "id": "a49fa2d3-fc68-4cbe-88ca-a716e6ef3273"
    }
   },
   "outputs": [
    {
     "name": "stdout",
     "output_type": "stream",
     "text": [
      "[ 2.  2.]\n",
      "(2, 2)\n",
      "[[ 0.  0.  0.  0.]]\n"
     ]
    }
   ],
   "source": [
    "import numpy as np\n",
    "\n",
    "a = np.zeros((2,2))\n",
    "b = np.ones((2,2))\n",
    "\n",
    "print(np.sum(b,axis=1))\n",
    "print(a.shape)\n",
    "print(np.reshape(a,(1,4)))\n"
   ]
  },
  {
   "cell_type": "code",
   "execution_count": 14,
   "metadata": {
    "collapsed": false
   },
   "outputs": [
    {
     "name": "stdout",
     "output_type": "stream",
     "text": [
      "[ 2.  2.]\n",
      "(2, 2)\n",
      "[[ 0.  0.  0.  0.]]\n"
     ]
    }
   ],
   "source": [
    "import tensorflow as tf\n",
    "\n",
    "a = tf.zeros((2,2))\n",
    "b = tf.ones((2,2))\n",
    "\n",
    "sesh = tf.Session()\n",
    "print(sesh.run(tf.reduce_sum(b,reduction_indices=1)))\n",
    "print(a.get_shape())\n",
    "print(sesh.run(tf.reshape(a,(1,4))))\n",
    "sesh.close()"
   ]
  },
  {
   "cell_type": "markdown",
   "metadata": {},
   "source": [
    "### TensorFlow definiert ein 'Computation Graph'\n",
    "\"TensorFlow programs are usually structured into a construction phase, that assembles a graph, and an execution phase that uses a session to execute ops in the graph\" - tensorflow docs\n",
    "- wir mussen explizit 'run()' auf ein session rufen\n",
    "- sonnst passiert nichts\n",
    "\n"
   ]
  },
  {
   "cell_type": "code",
   "execution_count": 7,
   "metadata": {
    "collapsed": false
   },
   "outputs": [
    {
     "name": "stdout",
     "output_type": "stream",
     "text": [
      "Here is a : \n",
      "[[ 0.  0.]\n",
      " [ 0.  0.]]\n",
      "ta vor 'run'\n",
      "Tensor(\"zeros_1:0\", shape=(2, 2), dtype=float32)\n",
      "ta nach 'run'\n",
      "[[ 0.  0.]\n",
      " [ 0.  0.]]\n"
     ]
    }
   ],
   "source": [
    "shape = (2,2)\n",
    "a = np.zeros(shape)\n",
    "ta = tf.zeros(shape)\n",
    "\n",
    "print(\"Here is a : \")\n",
    "print(a)\n",
    "print(\"ta vor 'run'\")\n",
    "print(ta)\n",
    "print(\"ta nach 'run'\")\n",
    "print(sesh.run(ta))"
   ]
  },
  {
   "cell_type": "markdown",
   "metadata": {},
   "source": [
    "### Sessions\n",
    "\" A Session object encapsulates the environment in which Tensor objects are evaluated\"\n",
    "- kann entweder 'tf.InteractiveSession()' laufen, dann operation.eval() \n",
    "- oder ein tf.Session() definieren und run() "
   ]
  },
  {
   "cell_type": "code",
   "execution_count": 8,
   "metadata": {
    "collapsed": false
   },
   "outputs": [
    {
     "name": "stdout",
     "output_type": "stream",
     "text": [
      "50.0\n",
      "50.0\n"
     ]
    }
   ],
   "source": [
    "a = tf.constant(5.0)\n",
    "b = tf.constant(10.0)\n",
    "c = a*b\n",
    "\n",
    "with tf.Session() as sess:\n",
    "    print(sess.run(c))\n",
    "    print(c.eval())"
   ]
  },
  {
   "cell_type": "markdown",
   "metadata": {},
   "source": [
    "### Variables und Placeholders\n",
    "- Variables : für interne daten Strukturen\n",
    "- Placeholders : für input/output\n",
    "\n",
    "#### Variables\n",
    "\"When you train a model you use variables to hold and update parameters. Variables are in memory buffers containing tensors.\" - TensorFlow Docs"
   ]
  },
  {
   "cell_type": "code",
   "execution_count": 9,
   "metadata": {
    "collapsed": false
   },
   "outputs": [
    {
     "name": "stdout",
     "output_type": "stream",
     "text": [
      "[[ 0.  0.]\n",
      " [ 0.  0.]]\n",
      "[[ 0.25100324 -0.55892378]\n",
      " [ 1.12517929  0.02812252]]\n"
     ]
    }
   ],
   "source": [
    "a = tf.Variable(tf.zeros(shape),name=\"a\")\n",
    "b = tf.Variable(tf.random_normal(shape),name=\"b\")\n",
    "with tf.Session() as sess:\n",
    "    sess.run(tf.initialize_all_variables())\n",
    "    print(sess.run(a))\n",
    "    print(sess.run(b))"
   ]
  },
  {
   "cell_type": "code",
   "execution_count": 10,
   "metadata": {
    "collapsed": false
   },
   "outputs": [
    {
     "name": "stdout",
     "output_type": "stream",
     "text": [
      "0\n",
      "1\n",
      "2\n",
      "3\n"
     ]
    }
   ],
   "source": [
    "# build computation graph : \n",
    "a = tf.Variable(0,name=\"counter\")\n",
    "b = tf.add(a,tf.constant(1))\n",
    "update = tf.assign(a,b)\n",
    "\n",
    "# execute the graph : \n",
    "with tf.Session() as sess:\n",
    "    sess.run(tf.initialize_all_variables())\n",
    "    print(sess.run(a))\n",
    "    for _ in range(3):\n",
    "        sess.run(update)\n",
    "        print(sess.run(a))"
   ]
  },
  {
   "cell_type": "markdown",
   "metadata": {},
   "source": [
    "sess.run(variable) gibt den Wert von variable zurück"
   ]
  },
  {
   "cell_type": "code",
   "execution_count": 11,
   "metadata": {
    "collapsed": false
   },
   "outputs": [
    {
     "name": "stdout",
     "output_type": "stream",
     "text": [
      "[30.0, 10.0]\n"
     ]
    }
   ],
   "source": [
    "a = tf.constant(3.0)\n",
    "b = tf.constant(2.0)\n",
    "c = tf.constant(8.0)\n",
    "b_plus_c = tf.add(b,c)\n",
    "a_mal_bc = tf.mul(a,b_plus_c)\n",
    "\n",
    "with tf.Session() as sess:\n",
    "    d = sess.run([a_mal_bc,b_plus_c])\n",
    "    print(d)"
   ]
  },
  {
   "cell_type": "markdown",
   "metadata": {},
   "source": [
    "#### Placeholders\n",
    "Bis jetzt haben wir explizit tensoren definiert. Normaleweise wollen wir externe Data rein speisen. wir machen dass mit Numpy und Feed Dictionaries"
   ]
  },
  {
   "cell_type": "code",
   "execution_count": 12,
   "metadata": {
    "collapsed": false
   },
   "outputs": [
    {
     "name": "stdout",
     "output_type": "stream",
     "text": [
      "[[ 0.  0.]\n",
      " [ 0.  0.]]\n"
     ]
    }
   ],
   "source": [
    "# explizit mit convert_to_tensor\n",
    "a = np.zeros((shape))\n",
    "ta = tf.convert_to_tensor(a)\n",
    "with tf.Session() as sess:\n",
    "    print(sess.run(ta))"
   ]
  },
  {
   "cell_type": "code",
   "execution_count": 13,
   "metadata": {
    "collapsed": false
   },
   "outputs": [
    {
     "name": "stdout",
     "output_type": "stream",
     "text": [
      "[array([ 72.], dtype=float32)]\n"
     ]
    }
   ],
   "source": [
    "# mit feed dictionaries\n",
    "# dictionary mapping from tf.placeholder to data (numpy, lists, etc)\n",
    "a = tf.placeholder(tf.float32)\n",
    "b = tf.placeholder(tf.float32)\n",
    "a_mal_b = tf.mul(a,b)\n",
    "with tf.Session() as sess:\n",
    "    print(sess.run([a_mal_b],\n",
    "                   feed_dict = {a:[8.],b:[9.]}))"
   ]
  },
  {
   "cell_type": "markdown",
   "metadata": {},
   "source": [
    "## Variable Scope\n",
    "- tf.variable_scope() für einfache name-spacing\n",
    "- tf.get_variable() um variablen zu kriegen/generieren (default reuse = False, schafft neue variable, reuse = True sucht und gibt ValueError wenn nicht existiert)"
   ]
  },
  {
   "cell_type": "code",
   "execution_count": 23,
   "metadata": {
    "collapsed": false
   },
   "outputs": [
    {
     "name": "stdout",
     "output_type": "stream",
     "text": [
      "layer1/inside_layer1/v:0\n"
     ]
    }
   ],
   "source": [
    "with tf.variable_scope(\"layer1\",reuse=True):\n",
    "    with tf.variable_scope(\"inside_layer1\",reuse=True):\n",
    "        v = tf.get_variable(\"v\",[1])\n",
    "print(v.name)"
   ]
  },
  {
   "cell_type": "code",
   "execution_count": 72,
   "metadata": {
    "collapsed": false
   },
   "outputs": [
    {
     "data": {
      "image/png": "[encoded data removed]",
      "text/plain": [
       "<matplotlib.figure.Figure at 0x11ec03be0>"
      ]
     },
     "metadata": {},
     "output_type": "display_data"
    }
   ],
   "source": [
    "## Linear Regression in TF\n",
    "import numpy as np\n",
    "import seaborn\n",
    "from matplotlib import pyplot as plt\n",
    "%matplotlib inline\n",
    "\n",
    "# make the data\n",
    "x_data = np.arange(100,step=.1)\n",
    "y_data = x_data+np.sin(x_data/10)*20\n",
    "\n",
    "# plot the data\n",
    "plt.scatter(x_data,y_data)\n",
    "\n",
    "n_samples = 1000\n",
    "batch_size = 100\n",
    "\n",
    "x_data = np.reshape(x_data,(n_samples,1))\n",
    "y_data = np.reshape(y_data,(n_samples,1))\n",
    "\n",
    "x = tf.placeholder(tf.float32,shape=(batch_size,1))\n",
    "y = tf.placeholder(tf.float32,shape=(batch_size,1))\n",
    "\n",
    "with tf.variable_scope(\"linear-regression\",reuse=True):\n",
    "    w = tf.get_variable(\"weights\",(1,1),\n",
    "                        initializer = tf.random_normal_initializer())\n",
    "    b = tf.get_variable(\"bias\",(1,),\n",
    "                        initializer=tf.constant_initializer(0.0))\n",
    "    y_pred = tf.matmul(x,w)+b\n",
    "    loss = tf.reduce_sum((y-y_pred)**2/n_samples)"
   ]
  },
  {
   "cell_type": "markdown",
   "metadata": {},
   "source": [
    "### 1 Training Schritt"
   ]
  },
  {
   "cell_type": "code",
   "execution_count": 73,
   "metadata": {
    "collapsed": false
   },
   "outputs": [
    {
     "name": "stdout",
     "output_type": "stream",
     "text": [
      "Loss val ist : 934.726074\n"
     ]
    }
   ],
   "source": [
    "# gradient descent optimierung algorithmus definieren\n",
    "opt = tf.train.AdamOptimizer()\n",
    "\n",
    "# tensorflow scope ist nicht python scope! kann immernoch loss sehen\n",
    "opt_operation = opt.minimize(loss)\n",
    "\n",
    "with tf.Session() as sess:\n",
    "    sess.run(tf.initialize_all_variables())\n",
    "    x_batch,y_batch = x_data[indices], y_data[indices]\n",
    "    _,loss_val = sess.run([opt_operation,loss],\n",
    "                          feed_dict={x:x_batch,y:y_batch})\n",
    "    print(\"Loss val ist : %f\"%loss_val)"
   ]
  },
  {
   "cell_type": "code",
   "execution_count": 74,
   "metadata": {
    "collapsed": false
   },
   "outputs": [
    {
     "name": "stdout",
     "output_type": "stream",
     "text": [
      "Loss val ist : 33.593842\n",
      "y = 1.28x + -0.00\n",
      "Loss val ist : 24.006998\n",
      "y = 1.18x + -0.09\n",
      "Loss val ist : 16.704872\n",
      "y = 1.12x + -0.15\n",
      "Loss val ist : 18.761545\n",
      "y = 1.08x + -0.17\n",
      "Loss val ist : 18.057312\n",
      "y = 1.06x + -0.16\n"
     ]
    }
   ],
   "source": [
    "opt_operation = tf.train.AdamOptimizer().minimize(loss)\n",
    "weight,bias = 0,0\n",
    "with tf.Session() as sess:\n",
    "    sess.run(tf.initialize_all_variables())\n",
    "    \n",
    "    for i in range(500):\n",
    "        indices = np.random.choice(n_samples,batch_size)\n",
    "        x_batch,y_batch = x_data[indices], y_data[indices]\n",
    "        _,loss_val,weight,bias = sess.run([opt_operation,loss,w,b],\n",
    "                             feed_dict = {x:x_batch,y:y_batch})\n",
    "        if (i%100 == 0):\n",
    "            print(\"Loss val ist : %f\"%loss_val)\n",
    "            print(\"y = %0.2fx + %0.2f\"%(weight,bias))"
   ]
  },
  {
   "cell_type": "code",
   "execution_count": 75,
   "metadata": {
    "collapsed": false
   },
   "outputs": [
    {
     "data": {
      "image/png": "[encoded data removed]",
      "text/plain": [
       "<matplotlib.figure.Figure at 0x10686cb38>"
      ]
     },
     "metadata": {},
     "output_type": "display_data"
    }
   ],
   "source": [
    "plt.plot(x_data,x_data*weight+bias)\n",
    "plt.plot(x_data,y_data)\n",
    "plt.show()"
   ]
  },
  {
   "cell_type": "markdown",
   "metadata": {},
   "source": [
    "- tf.train.Optimizer ist ein optimizer\n",
    "- tf.train.Optimizer.minimize(loss,var_list) baut die optimierung in unsere computation graph ein\n",
    "- automatische differenzierung!! ohne user input!"
   ]
  },
  {
   "cell_type": "markdown",
   "metadata": {},
   "source": [
    "### White paper to TensorFlow\n",
    "The white paper is [here](http://download.tensorflow.org/paper/whitepaper2015.pdf). \n",
    "TensorFlow computation described by a graph composed of a set of nodes. Each node represents (the instantiation of) an *operation*, has zero or more inputs/outputs. Values that flow along normal edges are tensors (arbitrary dimensionality arrays)\n",
    "- special edges called *control dependencies* can also exist : no data flows along such edges, but say source node must finish before execution of destination node (enforce happens before relationships)\n",
    "- an *operation* represents an abstract computation, has a name (eg matrix multiply, add). Can have attributes (eg make polymorphic so can add int/float tensors)\n",
    "- a *kernel* is a particular implementation of an operation that can run on a particular type of device (eg CPU/GPU)\n",
    "- the *session* allows client programs to interact with tf system. Computational graph is empty when session created, session adds nodes/edges with extend. Run takes a set of output names that need to be computed as well as an optional set of tensors to be fed into the graph. Arranges and executes appropriate nodes in order that respect their dependencies.\n",
    "- usually set up a session with a graph once and then execute the full graph thousands/millions of times with run calls.\n",
    "- most tensors do not survive past a single execution in a graph. A *variable* is a special kind of operation that returns a handle to a persistent mutable tensor that survives across executions of a graph.\n",
    "- automatic differentiation : when need to compute gradient of C with respect to I, then tf finds the path in computation graph from I to C. Then backtracks from C to I and, for each operation in the backward path, adds a node to the tf graph, compsoing the partial gradients alon gthe backwards path using the chain rule. This added node computes the 'gradient function' for the corresponding operation in the forward path. Any operation can register a gradient function. This function takes as input not only partial gradients computed already along backward path, but also (optionally) inputs/outputs of the forward operation. \n",
    "\n",
    "- can run the graph from any node (subgraphs) using run.Run() takes output nodes and input data (using feed_dict). Feed and Fetch nodes are then added to graph (have operations for inputing/saving data). Once added the set of nodes required for execution is determined by starting at each output node and working backward in the graph using graph dependences to determine full set of nodes to be run"
   ]
  },
  {
   "cell_type": "code",
   "execution_count": null,
   "metadata": {
    "collapsed": true
   },
   "outputs": [],
   "source": []
  }
 ],
 "metadata": {
  "anaconda-cloud": {},
  "kernelspec": {
   "display_name": "Python [tensorflow]",
   "language": "python",
   "name": "Python [tensorflow]"
  },
  "language_info": {
   "codemirror_mode": {
    "name": "ipython",
    "version": 3
   },
   "file_extension": ".py",
   "mimetype": "text/x-python",
   "name": "python",
   "nbconvert_exporter": "python",
   "pygments_lexer": "ipython3",
   "version": "3.5.2"
  },
  "nbpresent": {
   "slides": {
    "dd18fd6d-1335-4b5c-94f6-7873abfb685d": {
     "id": "dd18fd6d-1335-4b5c-94f6-7873abfb685d",
     "layout": "manual",
     "prev": null,
     "regions": {
      "a6d04707-71b0-45cf-9d4b-7981d00a013c": {
       "attrs": {
        "height": 1,
        "pad": 0.01,
        "width": 1,
        "x": 0,
        "y": 0
       },
       "id": "a6d04707-71b0-45cf-9d4b-7981d00a013c"
      },
      "c6f1aac8-b803-4214-ab62-072108eec4d4": {
       "attrs": {
        "height": 0.8333333333333334,
        "pad": 0.01,
        "width": 0.8333333333333334,
        "x": 0.029761904761904795,
        "y": 0.06428571428571428
       },
       "content": {
        "cell": "07d95f84-6239-428d-8d31-9ba415a34dac",
        "part": "source"
       },
       "id": "c6f1aac8-b803-4214-ab62-072108eec4d4"
      }
     }
    }
   },
   "themes": {
    "default": "d8508484-90aa-4b1d-b83b-178ffd571362",
    "theme": {
     "d8508484-90aa-4b1d-b83b-178ffd571362": {
      "backgrounds": {
       "dc7afa04-bf90-40b1-82a5-726e3cff5267": {
        "background-color": "31af15d2-7e15-44c5-ab5e-e04b16a89eff",
        "id": "dc7afa04-bf90-40b1-82a5-726e3cff5267"
       }
      },
      "id": "d8508484-90aa-4b1d-b83b-178ffd571362",
      "palette": {
       "19cc588f-0593-49c9-9f4b-e4d7cc113b1c": {
        "id": "19cc588f-0593-49c9-9f4b-e4d7cc113b1c",
        "rgb": [
         252,
         252,
         252
        ]
       },
       "31af15d2-7e15-44c5-ab5e-e04b16a89eff": {
        "id": "31af15d2-7e15-44c5-ab5e-e04b16a89eff",
        "rgb": [
         68,
         68,
         68
        ]
       },
       "50f92c45-a630-455b-aec3-788680ec7410": {
        "id": "50f92c45-a630-455b-aec3-788680ec7410",
        "rgb": [
         197,
         226,
         245
        ]
       },
       "c5cc3653-2ee1-402a-aba2-7caae1da4f6c": {
        "id": "c5cc3653-2ee1-402a-aba2-7caae1da4f6c",
        "rgb": [
         43,
         126,
         184
        ]
       },
       "efa7f048-9acb-414c-8b04-a26811511a21": {
        "id": "efa7f048-9acb-414c-8b04-a26811511a21",
        "rgb": [
         25.118061674008803,
         73.60176211453744,
         107.4819383259912
        ]
       }
      },
      "rules": {
       "a": {
        "color": "19cc588f-0593-49c9-9f4b-e4d7cc113b1c"
       },
       "blockquote": {
        "color": "50f92c45-a630-455b-aec3-788680ec7410",
        "font-size": 3
       },
       "code": {
        "font-family": "Anonymous Pro"
       },
       "h1": {
        "color": "19cc588f-0593-49c9-9f4b-e4d7cc113b1c",
        "font-family": "Merriweather",
        "font-size": 8
       },
       "h2": {
        "color": "19cc588f-0593-49c9-9f4b-e4d7cc113b1c",
        "font-family": "Merriweather",
        "font-size": 6
       },
       "h3": {
        "color": "50f92c45-a630-455b-aec3-788680ec7410",
        "font-family": "Lato",
        "font-size": 5.5
       },
       "h4": {
        "color": "c5cc3653-2ee1-402a-aba2-7caae1da4f6c",
        "font-family": "Lato",
        "font-size": 5
       },
       "h5": {
        "font-family": "Lato"
       },
       "h6": {
        "font-family": "Lato"
       },
       "h7": {
        "font-family": "Lato"
       },
       "li": {
        "color": "50f92c45-a630-455b-aec3-788680ec7410",
        "font-size": 3.25
       },
       "pre": {
        "font-family": "Anonymous Pro",
        "font-size": 4
       }
      },
      "text-base": {
       "color": "19cc588f-0593-49c9-9f4b-e4d7cc113b1c",
       "font-family": "Lato",
       "font-size": 4
      }
     }
    }
   }
  }
 },
 "nbformat": 4,
 "nbformat_minor": 0
}
