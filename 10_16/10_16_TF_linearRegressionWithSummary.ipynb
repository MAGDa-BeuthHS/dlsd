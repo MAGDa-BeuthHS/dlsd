{
 "cells": [
  {
   "cell_type": "code",
   "execution_count": 1,
   "metadata": {
    "collapsed": true
   },
   "outputs": [],
   "source": [
    "## Linear Regression in TF\n",
    "import tensorflow as tf\n",
    "import numpy as np\n",
    "import seaborn\n",
    "from matplotlib import pyplot as plt\n",
    "%matplotlib inline"
   ]
  },
  {
   "cell_type": "code",
   "execution_count": 2,
   "metadata": {
    "collapsed": false
   },
   "outputs": [
    {
     "name": "stdout",
     "output_type": "stream",
     "text": [
      "Loss val ist : 290.102203\n",
      "y = 0.18x + 0.00\n",
      "Loss val ist : 243.307129\n",
      "y = 0.28x + 0.10\n",
      "Loss val ist : 155.152344\n",
      "y = 0.37x + 0.19\n",
      "Loss val ist : 127.804291\n",
      "y = 0.46x + 0.28\n",
      "Loss val ist : 105.061401\n",
      "y = 0.53x + 0.36\n",
      "Loss val ist : 78.459015\n",
      "y = 0.61x + 0.43\n",
      "Loss val ist : 68.231079\n",
      "y = 0.67x + 0.50\n",
      "Loss val ist : 49.985836\n",
      "y = 0.73x + 0.56\n",
      "Loss val ist : 42.738098\n",
      "y = 0.79x + 0.61\n",
      "Loss val ist : 32.110626\n",
      "y = 0.83x + 0.66\n"
     ]
    },
    {
     "data": {
      "image/png": "[encoded data removed]",
      "text/plain": [
       "<matplotlib.figure.Figure at 0x1191e0080>"
      ]
     },
     "metadata": {},
     "output_type": "display_data"
    }
   ],
   "source": [
    "weight,bias = 0,0\n",
    "output_dir = '/Users/ahartens/Desktop/tryTf'\n",
    "\n",
    "graph = tf.Graph()\n",
    "with graph.as_default(),tf.device('/cpu:0'):\n",
    "    \n",
    "    # make the data\n",
    "    x_data = np.arange(100,step=.1)\n",
    "    y_data = x_data+np.sin(x_data/10)*20\n",
    "\n",
    "    # plot the data\n",
    "    plt.scatter(x_data,y_data)\n",
    "\n",
    "    n_samples = 1000\n",
    "    batch_size = 100\n",
    "\n",
    "    x_data = np.reshape(x_data,(n_samples,1))\n",
    "    y_data = np.reshape(y_data,(n_samples,1))\n",
    "\n",
    "    x = tf.placeholder(tf.float32,shape=(batch_size,1))\n",
    "    y = tf.placeholder(tf.float32,shape=(batch_size,1))\n",
    "\n",
    "    with tf.variable_scope(\"linear-regression\"):\n",
    "        w = tf.get_variable(\"weights\",(1,1),\n",
    "                            initializer = tf.random_normal_initializer())\n",
    "        b = tf.get_variable(\"bias\",(1,),\n",
    "                            initializer=tf.constant_initializer(0.0))\n",
    "        y_pred = tf.matmul(x,w) + b\n",
    "        loss = tf.reduce_sum((y-y_pred)**2/n_samples)\n",
    "        tf.scalar_summary(\"myLossOperation\",loss)\n",
    "        tf.histogram_summary(\"weight\", w)\n",
    "        tf.histogram_summary(\"bias\", b)\n",
    "        tf.histogram_summary(\"loss\", loss)\n",
    "\n",
    "\n",
    "    opt_operation = tf.train.AdamOptimizer().minimize(loss)\n",
    "\n",
    "    summary_op = tf.merge_all_summaries()\n",
    "\n",
    "with tf.Session(graph=graph) as sess:\n",
    "    summary_writer = tf.train.SummaryWriter(output_dir,sess.graph)\n",
    "    sess.run(tf.initialize_all_variables())\n",
    "\n",
    "    for i in range(1000):\n",
    "        indices = np.random.choice(n_samples,batch_size)\n",
    "        x_batch,y_batch = x_data[indices], y_data[indices]\n",
    "        myFeedDict = {x:x_batch,y:y_batch}\n",
    "        _,loss_val,weight,bias,summary_str = sess.run([opt_operation,loss,w,b,summary_op],\n",
    "                             feed_dict = myFeedDict)\n",
    "        summary_writer.add_summary(summary_str)\n",
    "        summary_writer.flush()\n",
    "        if (i%100 == 0):\n",
    "            print(\"Loss val ist : %f\"%loss_val)\n",
    "            print(\"y = %0.2fx + %0.2f\"%(weight,bias))\n",
    "            "
   ]
  },
  {
   "cell_type": "code",
   "execution_count": 3,
   "metadata": {
    "collapsed": false
   },
   "outputs": [
    {
     "data": {
      "image/png": "[encoded data removed]",
      "text/plain": [
       "<matplotlib.figure.Figure at 0x1191cb0f0>"
      ]
     },
     "metadata": {},
     "output_type": "display_data"
    }
   ],
   "source": [
    "plt.plot(x_data,x_data*weight+bias)\n",
    "plt.plot(x_data,y_data)\n",
    "plt.show()"
   ]
  },
  {
   "cell_type": "code",
   "execution_count": null,
   "metadata": {
    "collapsed": true
   },
   "outputs": [],
   "source": []
  },
  {
   "cell_type": "code",
   "execution_count": null,
   "metadata": {
    "collapsed": true
   },
   "outputs": [],
   "source": []
  }
 ],
 "metadata": {
  "anaconda-cloud": {},
  "kernelspec": {
   "display_name": "Python [tensorflow]",
   "language": "python",
   "name": "Python [tensorflow]"
  },
  "language_info": {
   "codemirror_mode": {
    "name": "ipython",
    "version": 3
   },
   "file_extension": ".py",
   "mimetype": "text/x-python",
   "name": "python",
   "nbconvert_exporter": "python",
   "pygments_lexer": "ipython3",
   "version": "3.5.2"
  }
 },
 "nbformat": 4,
 "nbformat_minor": 0
}
